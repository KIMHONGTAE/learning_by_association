{
 "cells": [
  {
   "cell_type": "markdown",
   "metadata": {},
   "source": [
    "## Setting\n",
    "- dataset: cifar 100\n",
    "- preprocessing: random cropping, flipping, brightness and contrast\n",
    "  same as in https://github.com/tensorflow/models/tree/master/slim\n",
    "  \n",
    "- model: cifarnet (also from tensorflow slim repo)\n",
    "\n",
    "A few baselines: \n",
    "- training cifarnet on full dataset with slim repo code: 42% error\n",
    "- \"\" with my code: 43% error"
   ]
  },
  {
   "cell_type": "markdown",
   "metadata": {},
   "source": [
    "All following experiments are done with a split of 20% supervised / 80% unsupervised samples.\n",
    "\n",
    "### standard dataset (predict 100 fine labels)\n",
    "| type  |  error rate  |  \n",
    "|---|---|\n",
    "| supervised  | ~58%  |  \n",
    "| semisup  | ~56.5%  |   \n",
    "\n",
    "### predict only 20 coarse labels\n",
    "| type  |  error rate  |  \n",
    "|---|---|\n",
    "| supervised  | ~61%  |  \n",
    "| semisup  | ~60%  |   \n",
    "\n",
    "### multitask: predict coarse and fine labels, walker loss only on 20 coarse labels\n",
    "| type  |  error rate on coarse |  error on fine \n",
    "|---|---|---\n",
    "| supervised  | ~56%  |  ~57%\n",
    "| semisup  | ~57%  |  ~58% \n",
    "\n",
    "\n",
    "### multitask: predict coarse and fine labels, walker loss on both labels\n",
    "tbd"
   ]
  },
  {
   "cell_type": "code",
   "execution_count": null,
   "metadata": {
    "collapsed": true
   },
   "outputs": [],
   "source": []
  }
 ],
 "metadata": {
  "kernelspec": {
   "display_name": "Python 2",
   "language": "python",
   "name": "python2"
  },
  "language_info": {
   "codemirror_mode": {
    "name": "ipython",
    "version": 2
   },
   "file_extension": ".py",
   "mimetype": "text/x-python",
   "name": "python",
   "nbconvert_exporter": "python",
   "pygments_lexer": "ipython2",
   "version": "2.7.12"
  }
 },
 "nbformat": 4,
 "nbformat_minor": 2
}
